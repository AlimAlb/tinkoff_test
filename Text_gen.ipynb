{
  "nbformat": 4,
  "nbformat_minor": 0,
  "metadata": {
    "colab": {
      "provenance": [],
      "collapsed_sections": []
    },
    "kernelspec": {
      "name": "python3",
      "display_name": "Python 3"
    },
    "language_info": {
      "name": "python"
    }
  },
  "cells": [
    {
      "cell_type": "markdown",
      "source": [
        "##Imports"
      ],
      "metadata": {
        "id": "3gEAgXnMUOWF"
      }
    },
    {
      "cell_type": "code",
      "source": [
        "import torch\n",
        "import pandas as pd\n",
        "from collections import Counter\n",
        "import string\n",
        "import re\n",
        "import nltk\n",
        "import nltk.tokenize\n",
        "import numpy as np\n",
        "from torch import nn, optim\n",
        "from torch.utils.data import DataLoader\n",
        "PATH_TO_CSV_FILE = '/content/drive/MyDrive/youtoxic_english_1000.csv'"
      ],
      "metadata": {
        "id": "3Vs-Gpr98Nq4"
      },
      "execution_count": 81,
      "outputs": []
    },
    {
      "cell_type": "markdown",
      "source": [
        "##Model class:\n"
      ],
      "metadata": {
        "id": "vMyQAwREUSLk"
      }
    },
    {
      "cell_type": "code",
      "source": [
        "class Model(nn.Module):\n",
        "    def __init__(self, dataset):\n",
        "        super(Model, self).__init__()\n",
        "        self.lstm_size = 128\n",
        "        self.embedding_dim = 128\n",
        "        self.num_layers = 3\n",
        "\n",
        "        n_vocab = len(dataset.uniq_words)\n",
        "        self.embedding = nn.Embedding(\n",
        "            num_embeddings=n_vocab,\n",
        "            embedding_dim=self.embedding_dim,\n",
        "        )\n",
        "        self.lstm = nn.LSTM(\n",
        "            input_size=self.lstm_size,\n",
        "            hidden_size=self.lstm_size,\n",
        "            num_layers=self.num_layers,\n",
        "            dropout=0.2,\n",
        "        )\n",
        "        self.fc = nn.Linear(self.lstm_size, n_vocab)\n",
        "\n",
        "    def forward(self, x, prev_state):\n",
        "        embed = self.embedding(x)\n",
        "        output, state = self.lstm(embed, prev_state)\n",
        "        logits = self.fc(output)\n",
        "        return logits, state\n",
        "\n",
        "    def init_state(self, sequence_length):\n",
        "        return (torch.zeros(self.num_layers, sequence_length, self.lstm_size),\n",
        "                torch.zeros(self.num_layers, sequence_length, self.lstm_size))"
      ],
      "metadata": {
        "id": "H9dZkJW8TX-i"
      },
      "execution_count": 80,
      "outputs": []
    },
    {
      "cell_type": "markdown",
      "source": [
        "##Tokenizer: \n",
        "нужно было доработать класс под себя, времени не было, так что я скопировал из рекомендованного репозитория и доделал"
      ],
      "metadata": {
        "id": "ExyMQfuAUXD2"
      }
    },
    {
      "cell_type": "code",
      "source": [
        "class Tokenizer:\n",
        "    \"\"\"Tokenizer splits text into words.\n",
        "    Args:\n",
        "        - language: Text language.\n",
        "        - download: If true, download required NLTK data packages during init.\n",
        "    Inputs:\n",
        "        - text: Input text.\n",
        "    Outputs:\n",
        "        Sequence of sentences, each sentence is a sequence of words.\n",
        "        Each sentence ends with punctuation token.\n",
        "    \"\"\"\n",
        "    def __init__(self, language=\"russian\", download=True):\n",
        "        if download:\n",
        "            nltk.download(\"punkt\", quiet=True)\n",
        "        self._language = language\n",
        "\n",
        "    def __call__(self, text):\n",
        "        text = text.translate(str.maketrans('', '', string.punctuation))\n",
        "        sentences = []\n",
        "        for sentence in nltk.tokenize.sent_tokenize(text, language=self._language):\n",
        "            sentences.append(list(map(str.lower, nltk.tokenize.word_tokenize(sentence, language=self._language))))\n",
        "        return sentences"
      ],
      "metadata": {
        "id": "Cbdp5dEJLR6D"
      },
      "execution_count": 63,
      "outputs": []
    },
    {
      "cell_type": "markdown",
      "source": [
        "##Dataset:"
      ],
      "metadata": {
        "id": "tSIhqLm4UlT6"
      }
    },
    {
      "cell_type": "code",
      "source": [
        "class Dataset(torch.utils.data.Dataset):\n",
        "    def __init__(\n",
        "        self,\n",
        "        args,\n",
        "    ):\n",
        "        self.args = args\n",
        "        self.words = self.load_words()\n",
        "        self.uniq_words = self.get_uniq_words()\n",
        "\n",
        "        self.index_to_word = {index: word for index, word in enumerate(self.uniq_words)}\n",
        "        self.word_to_index = {word: index for index, word in enumerate(self.uniq_words)}\n",
        "\n",
        "        self.words_indexes = [self.word_to_index[w] for w in self.words]\n",
        "\n",
        "    def load_words(self):\n",
        "        text = pd.read_csv(PATH_TO_CSV_FILE)['Text'].str.cat(sep = ' ')\n",
        "        text = text.translate(str.maketrans('', '', string.punctuation))\n",
        "        text = re.sub(r'^https?:\\/\\/.*[\\r\\n]*', '', text, flags=re.MULTILINE)\n",
        "        tk = Tokenizer('english')\n",
        "        return tk(text)[0]\n",
        "\n",
        "    def get_uniq_words(self):\n",
        "        word_counts = Counter(self.words)\n",
        "        return sorted(word_counts, key=word_counts.get, reverse=True)\n",
        "\n",
        "    def __len__(self):\n",
        "        return len(self.words_indexes) - self.args['sequence_length']\n",
        "\n",
        "    def __getitem__(self, index):\n",
        "        return (\n",
        "            torch.tensor(self.words_indexes[index:index+self.args['sequence_length']]),\n",
        "            torch.tensor(self.words_indexes[index+1:index+self.args['sequence_length']+1]),\n",
        "        )"
      ],
      "metadata": {
        "id": "ZcEgNZ84C00X"
      },
      "execution_count": 73,
      "outputs": []
    },
    {
      "cell_type": "markdown",
      "source": [
        "##Train func:"
      ],
      "metadata": {
        "id": "9nDdalIcUtEb"
      }
    },
    {
      "cell_type": "code",
      "source": [
        "def train(dataset, model, print_every_n_batch, args):\n",
        "    model.train()\n",
        "\n",
        "    dataloader = DataLoader(dataset, batch_size=args['batch-size'])\n",
        "    criterion = nn.CrossEntropyLoss()\n",
        "    optimizer = optim.Adam(model.parameters(), lr=0.001)\n",
        "\n",
        "    for epoch in range(args['max-epochs']):\n",
        "        print(f'----------epoch #{epoch+1}-----------')\n",
        "        state_h, state_c = model.init_state(args['sequence_length'])\n",
        "\n",
        "        for batch, (x, y) in enumerate(dataloader):\n",
        "            optimizer.zero_grad()\n",
        "\n",
        "            y_pred, (state_h, state_c) = model(x, (state_h, state_c))\n",
        "            loss = criterion(y_pred.transpose(1, 2), y)\n",
        "\n",
        "            state_h = state_h.detach()\n",
        "            state_c = state_c.detach()\n",
        "\n",
        "            loss.backward()\n",
        "            optimizer.step()\n",
        "            if batch % print_every_n_batch == 0:\n",
        "              print({ 'batch': batch, 'loss': loss.item() })\n",
        "\n",
        "\n"
      ],
      "metadata": {
        "id": "WVthVKF6DqkQ"
      },
      "execution_count": 82,
      "outputs": []
    },
    {
      "cell_type": "markdown",
      "source": [
        "##Predict func:"
      ],
      "metadata": {
        "id": "QPPq1Y5aUxJK"
      }
    },
    {
      "cell_type": "code",
      "source": [
        "def predict(dataset, model, text, next_words=100):\n",
        "    model.eval()\n",
        "\n",
        "    words = text.split(' ')\n",
        "    state_h, state_c = model.init_state(len(words))\n",
        "\n",
        "    for i in range(0, next_words):\n",
        "        x = torch.tensor([[dataset.word_to_index[w] for w in words[i:]]])\n",
        "        y_pred, (state_h, state_c) = model(x, (state_h, state_c))\n",
        "\n",
        "        last_word_logits = y_pred[0][-1]\n",
        "        p = torch.nn.functional.softmax(last_word_logits, dim=0).detach().numpy()\n",
        "        word_index = np.random.choice(len(last_word_logits), p=p)\n",
        "        words.append(dataset.index_to_word[word_index])\n",
        "\n",
        "    return words"
      ],
      "metadata": {
        "id": "co_LUF-oGmcw"
      },
      "execution_count": 40,
      "outputs": []
    },
    {
      "cell_type": "markdown",
      "source": [
        "##Training: \n",
        "обучение модели лучше запустить заново, из-за отсуствия времени не успел толком прогнать обучение."
      ],
      "metadata": {
        "id": "tWRilnboU0nZ"
      }
    },
    {
      "cell_type": "code",
      "source": [
        "args = {'sequence_length': 4, \n",
        "        'max-epochs': 1, \n",
        "        'batch-size': 256}\n",
        "\n",
        "\n",
        "dataset = Dataset(args)\n",
        "model = Model(dataset)\n",
        "\n",
        "train(dataset, model, 50, args)\n",
        "print()\n",
        "print(predict(dataset, model, text='hey'))"
      ],
      "metadata": {
        "colab": {
          "base_uri": "https://localhost:8080/"
        },
        "id": "BG5LYNxUGr36",
        "outputId": "93ec8034-d65c-420c-e912-0ad3998088e7"
      },
      "execution_count": 84,
      "outputs": [
        {
          "output_type": "stream",
          "name": "stdout",
          "text": [
            "----------epoch #1-----------\n",
            "{'batch': 0, 'loss': 8.490377426147461}\n",
            "{'batch': 50, 'loss': 7.079318523406982}\n",
            "{'batch': 100, 'loss': 6.960036754608154}\n",
            "\n",
            "['hey', 'fist', 'frustrated', 'comments', 'nasty', 'lootedstole', 'red', 'if', 'backward', 'you', 'by', 'says', 'their', 'for', 'for', 'look', 'a', 'robberybut', 'fucked', 'tobacco', 'theyd', 'people', 'it', 'aggressive', 'extremely', 'some', 'handle', 'even', 'be', 'which', 'can', 'a', 'and', 'bring', 'by', 'i', 'the', 'stepping', 'are', 'asian', 'cant', 'focused', 'hahahaha', 'of', 'a', 'understand', 'use', 'right', 'dont', 'their', 'dont', 'let', 'police', 'is', 'stand', 'is', 'if', 'fuck', '314', 'black', 'rapping', 'the', 'was', 'to', 'children', 'questions', 'get', 'allow', 'head', 'witness', 'the', 'a', 'yourself', 'and', 'the', 'in', 'everyone', 'know', 'never', 'that', 'again', 'i', 'the', 'the', 'she', 'but', 'i', 'every', 'to', 'to', 'tshirts', 'blacks', 'addict', 'the', 'fascinating', 'entitled', 'work', 'almost', 'drug', 'and', 'supra']\n"
          ]
        }
      ]
    },
    {
      "cell_type": "code",
      "source": [],
      "metadata": {
        "id": "0C64NDvVIa7u"
      },
      "execution_count": null,
      "outputs": []
    }
  ]
}